{
 "cells": [
  {
   "cell_type": "markdown",
   "id": "89fe03e3",
   "metadata": {},
   "source": [
    "# DEPENDENCIES AND PATHS"
   ]
  },
  {
   "cell_type": "code",
   "execution_count": 163,
   "id": "3bb8eb42",
   "metadata": {},
   "outputs": [],
   "source": [
    "from splinter import Browser\n",
    "from bs4 import BeautifulSoup\n",
    "from webdriver_manager.chrome import ChromeDriverManager\n",
    "import requests"
   ]
  },
  {
   "cell_type": "code",
   "execution_count": 164,
   "id": "6954d1e1",
   "metadata": {},
   "outputs": [
    {
     "name": "stderr",
     "output_type": "stream",
     "text": [
      "\n",
      "\n",
      "====== WebDriver manager ======\n",
      "Current google-chrome version is 91.0.4472\n",
      "Get LATEST driver version for 91.0.4472\n",
      "Driver [/Users/albertogonzalez/.wdm/drivers/chromedriver/mac64/91.0.4472.101/chromedriver] found in cache\n"
     ]
    }
   ],
   "source": [
    "executable_path = {'executable_path': ChromeDriverManager().install()}\n",
    "browser = Browser('chrome', **executable_path, headless=False)"
   ]
  },
  {
   "cell_type": "markdown",
   "id": "0f9c7504",
   "metadata": {},
   "source": [
    "# STEP 1"
   ]
  },
  {
   "cell_type": "markdown",
   "id": "2fbe1176",
   "metadata": {},
   "source": [
    "## NASA MARS NEWS"
   ]
  },
  {
   "cell_type": "code",
   "execution_count": 165,
   "id": "fdc4b881",
   "metadata": {},
   "outputs": [],
   "source": [
    "url = \"https://redplanetscience.com/\"\n",
    "browser.visit(url)"
   ]
  },
  {
   "cell_type": "code",
   "execution_count": 166,
   "id": "a46b2e28",
   "metadata": {},
   "outputs": [],
   "source": [
    "html = browser.html\n",
    "soup = BeautifulSoup(html, \"html.parser\")"
   ]
  },
  {
   "cell_type": "code",
   "execution_count": 167,
   "id": "d99a7151",
   "metadata": {},
   "outputs": [
    {
     "name": "stdout",
     "output_type": "stream",
     "text": [
      "Mars InSight Lander to Push on Top of the 'Mole'\n",
      "Engineers have a plan for pushing down on the heat probe, which has been stuck at the Martian surface for a year.\n"
     ]
    }
   ],
   "source": [
    "news_title = soup.find('div', class_='content_title').get_text()\n",
    "news_p = soup.find('div', class_='article_teaser_body').get_text()\n",
    "print(news_title)\n",
    "print(news_p)"
   ]
  },
  {
   "cell_type": "markdown",
   "id": "fbc1ce50",
   "metadata": {},
   "source": [
    "## JPL MARS SPACE IMAGES - FEATURED IMAGE"
   ]
  },
  {
   "cell_type": "code",
   "execution_count": 168,
   "id": "2ff02190",
   "metadata": {},
   "outputs": [],
   "source": [
    "jpl_image_url = \"https://spaceimages-mars.com/\"\n",
    "browser.visit(featured_image_url)"
   ]
  },
  {
   "cell_type": "code",
   "execution_count": 178,
   "id": "175bc07c",
   "metadata": {},
   "outputs": [],
   "source": [
    "html = browser.html\n",
    "soup = BeautifulSoup(html, \"html.parser\")"
   ]
  },
  {
   "cell_type": "code",
   "execution_count": 179,
   "id": "7c0ab7d4",
   "metadata": {},
   "outputs": [
    {
     "name": "stdout",
     "output_type": "stream",
     "text": [
      "image/featured/mars1.jpg\n"
     ]
    }
   ],
   "source": [
    "featured_image_url = soup.find(\"img\", class_=\"headerimage fade-in\")[\"src\"]\n",
    "print(image)\n"
   ]
  },
  {
   "cell_type": "code",
   "execution_count": 180,
   "id": "843f7dac",
   "metadata": {},
   "outputs": [],
   "source": [
    "main_site_url = \"https://spaceimages-mars.com/\""
   ]
  },
  {
   "cell_type": "code",
   "execution_count": 182,
   "id": "014dbd62",
   "metadata": {},
   "outputs": [
    {
     "data": {
      "text/plain": [
       "'https://spaceimages-mars.com/image/featured/mars1.jpg'"
      ]
     },
     "execution_count": 182,
     "metadata": {},
     "output_type": "execute_result"
    }
   ],
   "source": [
    "image_url = main_site_url + featured_image_url \n",
    "image_url"
   ]
  },
  {
   "cell_type": "code",
   "execution_count": null,
   "id": "a766a723",
   "metadata": {},
   "outputs": [],
   "source": []
  }
 ],
 "metadata": {
  "kernelspec": {
   "display_name": "Python 3",
   "language": "python",
   "name": "python3"
  },
  "language_info": {
   "codemirror_mode": {
    "name": "ipython",
    "version": 3
   },
   "file_extension": ".py",
   "mimetype": "text/x-python",
   "name": "python",
   "nbconvert_exporter": "python",
   "pygments_lexer": "ipython3",
   "version": "3.8.8"
  }
 },
 "nbformat": 4,
 "nbformat_minor": 5
}
